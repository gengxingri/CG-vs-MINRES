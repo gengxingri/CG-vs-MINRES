{
 "cells": [
  {
   "cell_type": "code",
   "execution_count": 1,
   "id": "b333c9ad",
   "metadata": {},
   "outputs": [],
   "source": [
    "import os\n",
    "import scipy.io as sio\n",
    "# 切换到包含文件的目录\n",
    "os.chdir('/Users/gengxingri/Desktop/Leetcodes/HUAWEI')\n",
    "\n",
    "from decimal import Decimal\n",
    "import numpy as np\n",
    "\n",
    "from scipy.sparse import csc_matrix\n",
    "from scipy.sparse.linalg import eigsh, norm, spsolve, cg, minres\n",
    "import scipy.sparse as sp\n",
    "import scipy.sparse.linalg as sla\n",
    "\n",
    "import matplotlib.pyplot as plt\n",
    "import matplotlib.ticker as ticker\n",
    "\n",
    "import time"
   ]
  },
  {
   "cell_type": "code",
   "execution_count": 2,
   "id": "f98c75fa",
   "metadata": {},
   "outputs": [
    {
     "name": "stdout",
     "output_type": "stream",
     "text": [
      "(504855, 504855) <class 'scipy.sparse._csc.csc_matrix'>\n",
      "(504855, 1) <class 'numpy.ndarray'>\n"
     ]
    }
   ],
   "source": [
    "# 读取.mat 文件\n",
    "data = sio.loadmat('af_shell8.mat')\n",
    "#data = sio.loadmat('sts4098.mat')\n",
    "\n",
    "A = data['Problem']['A'][0][0]\n",
    "print(A.shape, type(A))\n",
    "\n",
    "b = data['Problem']['b'][0][0]\n",
    "print(b.shape, type(b))\n"
   ]
  },
  {
   "cell_type": "code",
   "execution_count": 3,
   "id": "5c4ebfd3",
   "metadata": {},
   "outputs": [
    {
     "name": "stdout",
     "output_type": "stream",
     "text": [
      "6.461083536714519 3336183.6096447487\n",
      "Condition number based on eigenvalues: 516350.4837365418\n",
      "Runing time：328.6351320743561 s\n"
     ]
    }
   ],
   "source": [
    "'''\n",
    "tol 的值可以优化来提高eigval_min 的精度，但是算法的时间会增加\n",
    "'''\n",
    "\n",
    "# Calculate the condition number\n",
    "start_time = time.time()\n",
    "\n",
    "# return eigenvalues that have the min and max abs values, respectively\n",
    "eigval_max = eigsh(A, k=1, which='LM', return_eigenvectors=False)[0]\n",
    "eigval_min = eigsh(A, k=1, which='SM', return_eigenvectors=False, tol=1)[0]\n",
    "print(eigval_min, eigval_max)\n",
    "\n",
    "condition_number = eigval_max / eigval_min\n",
    "\n",
    "print(\"Condition number based on eigenvalues:\", condition_number)\n",
    "\n",
    "end_time = time.time()\n",
    "execution_time = end_time - start_time\n",
    "\n",
    "print(f\"Runing time：{execution_time} s\")"
   ]
  },
  {
   "cell_type": "code",
   "execution_count": null,
   "id": "a75dd7dd",
   "metadata": {},
   "outputs": [],
   "source": []
  },
  {
   "cell_type": "code",
   "execution_count": 4,
   "id": "f75f1d32",
   "metadata": {},
   "outputs": [
    {
     "name": "stdout",
     "output_type": "stream",
     "text": [
      "[1. 1. 1. ... 1. 1. 1.] 1.0\n"
     ]
    }
   ],
   "source": [
    "# Create the diagonal preconditioner\n",
    "n = A.shape[0]\n",
    "diag_A = A.diagonal()\n",
    "\n",
    "D = csc_matrix((1 / np.sqrt(diag_A), (np.arange(n), np.arange(n))), shape=(n, n))\n",
    "\n",
    "# Apply preconditioning\n",
    "A_new = D.dot(A.dot(D))\n",
    "\n",
    "# 将 numpy 数组转换为 CSC 格式的稀疏矩阵\n",
    "b_sparse = csc_matrix(b)\n",
    "\n",
    "b_new = D.dot(b_sparse) / norm(D.dot(b_sparse)) \n",
    "\n",
    "print(A_new.diagonal(), norm(b_new))"
   ]
  },
  {
   "cell_type": "code",
   "execution_count": 5,
   "id": "ae3d238e",
   "metadata": {},
   "outputs": [
    {
     "name": "stdout",
     "output_type": "stream",
     "text": [
      "1.4116767587432543e-05 3.73724129420628\n",
      "Condition number based on eigenvalues: 264737.7504134417\n"
     ]
    }
   ],
   "source": [
    "# Calculate the condition number\n",
    "\n",
    "eigval_max = eigsh(A_new, k=1, which='LM', return_eigenvectors=False)[0]\n",
    "eigval_min = eigsh(A_new, k=1, which='SM', return_eigenvectors=False, tol=1)[0]\n",
    "print(eigval_min, eigval_max)\n",
    "\n",
    "condition_number = eigval_max / eigval_min\n",
    "\n",
    "print(\"Condition number based on eigenvalues:\", condition_number)\n"
   ]
  },
  {
   "cell_type": "code",
   "execution_count": 6,
   "id": "26cd993a",
   "metadata": {},
   "outputs": [
    {
     "name": "stdout",
     "output_type": "stream",
     "text": [
      "[ 2.33596524e-05  1.81894253e-05 -9.42954189e-09 ...  9.63890968e-07\n",
      " -1.51665524e-06  5.25518056e-06]\n"
     ]
    }
   ],
   "source": [
    "# Unique solution of Ax = b\n",
    "\n",
    "x_unique = spsolve(A_new, b_new)\n",
    "print(x_unique)"
   ]
  },
  {
   "cell_type": "code",
   "execution_count": 7,
   "id": "cfce01ec",
   "metadata": {},
   "outputs": [
    {
     "name": "stdout",
     "output_type": "stream",
     "text": [
      "Converged after 1239 iterations\n",
      "CG method took 49.0669 seconds\n"
     ]
    }
   ],
   "source": [
    "# CG mtheod\n",
    "def conjugate_gradient_sparse(A, b, tol=1e-8, max_iter=5*b.shape[0]):\n",
    "    n = b.shape[0] \n",
    "    x = np.zeros(n).reshape((n,1))\n",
    "    r = b - A @ x\n",
    "    #print(r.shape, type(r))\n",
    "    xk_cg =[]\n",
    "    \n",
    "    \n",
    "    p = r.copy()\n",
    "    r_norm_sq = np.dot(r.T,r)\n",
    "    errors = []  # Initial error\n",
    "    #print(x.shape, r_norm_sq.shape)\n",
    "\n",
    "    for i in range(max_iter):\n",
    "        Ap = A @ p\n",
    "        alpha = r_norm_sq / np.dot(p.T, Ap)\n",
    "        x = x + alpha * p\n",
    "        r -= alpha * Ap\n",
    "        \n",
    "        r_norm_sq_new = np.dot(r.T, r)\n",
    "        \n",
    "        #print(r_norm_sq_new.shape)\n",
    "        errors.append(np.sqrt(r_norm_sq_new))  # Append new error\n",
    "        xk_cg.append(x)\n",
    "        if np.sqrt(r_norm_sq_new) < tol:\n",
    "            print(f\"Converged after {i+1} iterations\")\n",
    "            return x, errors, xk_cg\n",
    "        \n",
    "        beta = r_norm_sq_new / r_norm_sq\n",
    "        p = r + beta * p\n",
    "        r_norm_sq = r_norm_sq_new\n",
    "    \n",
    "    print(f\"Did not converge after {max_iter} iterations\")\n",
    "    return x, errors, xk_cg\n",
    "\n",
    "# Solve using our CG implementation\n",
    "start_time = time.time()\n",
    "\n",
    "b_array = b_new.toarray()\n",
    "x_cg, errors, xk = conjugate_gradient_sparse(A_new, b_array)\n",
    "\n",
    "cg_time = time.time() - start_time\n",
    "\n",
    "print(f\"CG method took {cg_time:.4f} seconds\")\n",
    "\n",
    "# change the type of errors_cg and xk_cg\n",
    "errors_cg = [arr[0][0] for arr in errors]\n",
    "xk_cg = [np.reshape(arr,-1) for arr in xk]"
   ]
  },
  {
   "cell_type": "code",
   "execution_count": null,
   "id": "2da09431",
   "metadata": {},
   "outputs": [],
   "source": []
  },
  {
   "cell_type": "code",
   "execution_count": null,
   "id": "a3347afe",
   "metadata": {},
   "outputs": [],
   "source": []
  },
  {
   "cell_type": "code",
   "execution_count": 8,
   "id": "9504f377",
   "metadata": {},
   "outputs": [
    {
     "name": "stdout",
     "output_type": "stream",
     "text": [
      "[ 2.32614069e-05  1.79431475e-05 -9.39774874e-09 ...  9.64215006e-07\n",
      " -1.06422646e-06  5.61766894e-06] 0\n",
      "\n",
      " [0.3492531138095971, 0.26803068989797196, 0.1315091518417673, 0.08641414645328896, 0.07016203885881234]\n"
     ]
    }
   ],
   "source": [
    "# MINRES method\n",
    "\n",
    "errors_minres = []\n",
    "\n",
    "xk_minres = []\n",
    "\n",
    "def callback(xk):\n",
    "    rk = b_array - A_new.dot(xk).reshape(-1,1)\n",
    "    error_norm = np.linalg.norm(rk)\n",
    "    errors_minres.append(error_norm)\n",
    "    xk_minres.append(xk)\n",
    "    return np.linalg.norm(rk)\n",
    "\n",
    "x_minres, info_minres = minres(A_new, b_array, tol=0.5*1e-11, callback=callback)\n",
    "print(x_minres, info_minres)\n",
    "print('\\n',errors_minres[0:5])"
   ]
  },
  {
   "cell_type": "code",
   "execution_count": null,
   "id": "c48c8443",
   "metadata": {},
   "outputs": [],
   "source": []
  },
  {
   "cell_type": "code",
   "execution_count": 9,
   "id": "609f47f2",
   "metadata": {},
   "outputs": [
    {
     "data": {
      "image/png": "[encoded data removed]",
      "text/plain": [
       "<Figure size 720x576 with 1 Axes>"
      ]
     },
     "metadata": {
      "needs_background": "light"
     },
     "output_type": "display_data"
    }
   ],
   "source": [
    "# Plot the log(||r||/||x||) errors\n",
    "\n",
    "xk_cg_norms =  np.array([np.linalg.norm(xk) for xk in xk_cg])\n",
    "xk_minres_norms =  np.array([np.linalg.norm(xk) for xk in xk_minres])\n",
    "\n",
    "cg_errors = np.log10(errors_cg / xk_cg_norms) \n",
    "minres_errors = np.log10(errors_minres / xk_minres_norms)\n",
    "\n",
    "def plot_log(cg_errors, minres_errors):\n",
    "    # Create the plot\n",
    "    fig, ax = plt.subplots(figsize=(10,8))\n",
    "    ax.plot(range(1,len(cg_errors)+1), cg_errors, 'b-', label='CG')\n",
    "    ax.plot(range(1,len(minres_errors)+1), minres_errors, 'r-.', label='MINRES')\n",
    "\n",
    "    # Set labels and title\n",
    "    ax.set_xlabel('iteration count')\n",
    "    ax.set_ylabel('log(||r||/||x||)')\n",
    "    ax.set_title('Name:Schenk_AFE_af_shell8, Dim:504855x504855, nnz:17579155, id=11')\n",
    "\n",
    "    # Set y-axis limits\n",
    "    ax.set_xlim(0, 1400)\n",
    "    ax.set_ylim(-10, -1)\n",
    "    ax.yaxis.set_major_locator(ticker.MultipleLocator(1))\n",
    "\n",
    "    # Add legend\n",
    "    ax.legend()\n",
    "\n",
    "\n",
    "    # Show the plot\n",
    "    plt.show()\n",
    "\n",
    "plot_log(cg_errors, minres_errors)"
   ]
  },
  {
   "cell_type": "code",
   "execution_count": 10,
   "id": "ae92a2cb",
   "metadata": {},
   "outputs": [
    {
     "name": "stdout",
     "output_type": "stream",
     "text": [
      "\n",
      "Errors of cg: [array(0.99969129), array(0.61817184), array(0.40717025), array(0.35297033), array(0.29535729)]\n",
      "\n",
      "Errors of minres: [array(1.26783715), array(0.8984194), array(0.45050834), array(0.37309316), array(0.3313877)]\n"
     ]
    }
   ],
   "source": [
    "# Plot the log(||xk-x*||_A) errors\n",
    "\n",
    "def plot_A_norm(cg_errors, minres_errors):\n",
    "    # Create the plot\n",
    "    fig, ax = plt.subplots(figsize=(10,8))\n",
    "    ax.plot(range(1, len(cg_errors)+1), cg_errors, 'b-', label='CG')\n",
    "    ax.plot(range(1, len(minres_errors)+1), minres_errors, 'r-.', label='MINRES')\n",
    "\n",
    "    # Set labels and title\n",
    "    ax.set_xlabel('iteration count')\n",
    "    ax.set_ylabel('log(||x_k - x*||_A)')\n",
    "    ax.set_title('Name:Schenk_AFE_af_shell8, Dim:504855x504855, nnz:17579155, id=11')\n",
    "\n",
    "    # Set y-axis limits\n",
    "    ax.set_xlim(0, 1400)\n",
    "    ax.set_ylim(-7, 1)\n",
    "    ax.yaxis.set_major_locator(ticker.MultipleLocator(1))\n",
    "\n",
    "    # Add legend\n",
    "    ax.legend()\n",
    "\n",
    "\n",
    "    # Show the plot\n",
    "    plt.show()\n",
    "\n",
    "# errors of log||xk - x* ||_A in each iteration\n",
    "\n",
    "errors_iter_cg = [np.sqrt((xk - x_unique).T.dot(A_new.dot(xk - x_unique))) for xk in xk_cg]\n",
    "xk_A_norms_cg = [np.array(err) for err in errors_iter_cg]\n",
    "\n",
    "print('\\nErrors of cg:', xk_A_norms_cg[0:5])\n",
    "cg_errors_A_norm = np.log10(xk_A_norms_cg)\n",
    "\n",
    "\n",
    "\n",
    "# errors of minres\n",
    "\n",
    "errors_iter_minres = [np.sqrt((xk - x_unique).T.dot(A_new.dot(xk - x_unique))) for xk in xk_minres] # list of array\n",
    "xk_A_norms_minres = [np.array(err) for err in errors_iter_minres]\n",
    "minres_errors_A_norm = np.log10(xk_A_norms_minres)\n",
    "print('\\nErrors of minres:', xk_A_norms_minres[0:5])"
   ]
  },
  {
   "cell_type": "code",
   "execution_count": 11,
   "id": "b44e6dfc",
   "metadata": {},
   "outputs": [
    {
     "data": {
      "image/png": "[encoded data removed]",
      "text/plain": [
       "<Figure size 720x576 with 1 Axes>"
      ]
     },
     "metadata": {
      "needs_background": "light"
     },
     "output_type": "display_data"
    }
   ],
   "source": [
    "plot_A_norm(cg_errors_A_norm, minres_errors_A_norm)"
   ]
  },
  {
   "cell_type": "code",
   "execution_count": 12,
   "id": "c02e2c7c",
   "metadata": {},
   "outputs": [
    {
     "name": "stdout",
     "output_type": "stream",
     "text": [
      "\n",
      "Errors of minres: [array(3.55465549), array(2.3758469), array(1.99864087), array(1.81736861), array(1.49775847)]\n",
      "\n",
      "Errors of minres: [array(6.88815193), array(4.69077574), array(2.36206006), array(2.00106524), array(1.81143755)]\n",
      "\n",
      "Errors of minres: [0.83810272 0.67124467 0.37329094 0.30126125 0.25802337]\n"
     ]
    },
    {
     "data": {
      "image/png": "[encoded data removed]",
      "text/plain": [
       "<Figure size 720x576 with 1 Axes>"
      ]
     },
     "metadata": {
      "needs_background": "light"
     },
     "output_type": "display_data"
    }
   ],
   "source": [
    "# Plot the log(||xk-x*||) errors\n",
    "\n",
    "def plot_norm(cg_errors, minres_errors):\n",
    "    # Create the plot\n",
    "    fig, ax = plt.subplots(figsize=(10,8))\n",
    "    ax.plot(range(1, len(cg_errors)+1), cg_errors, 'b-', label='CG')\n",
    "    ax.plot(range(1, len(minres_errors)+1), minres_errors, 'r-.', label='MINRES')\n",
    "\n",
    "    # Set labels and title\n",
    "    ax.set_xlabel('iteration count')\n",
    "    ax.set_ylabel('log(||x_k - x*||)')\n",
    "    ax.set_title('Name:Schenk_AFE_af_shell8, Dim:504855x504855, nnz:17579155, id=11')\n",
    "\n",
    "    # Set y-axis limits\n",
    "    ax.set_xlim(0, 1400)\n",
    "    ax.set_ylim(-5, 2)\n",
    "    ax.yaxis.set_major_locator(ticker.MultipleLocator(1))\n",
    "\n",
    "    # Add legend\n",
    "    ax.legend()\n",
    "\n",
    "\n",
    "    # Show the plot\n",
    "    plt.show()\n",
    "\n",
    "# errors of log||xk - x* || in each iteration\n",
    "\n",
    "# errors of cg\n",
    "errors3_cg = [np.linalg.norm(xk - x_unique) for xk in xk_cg]\n",
    "errors_norm3_cg = [np.array(err) for err in errors3_cg]\n",
    "\n",
    "print('\\nErrors of minres:', errors_norm3_cg[0:5])\n",
    "cg_errors_norm3 = np.log10(errors_norm3_cg)\n",
    "\n",
    "\n",
    "\n",
    "# errors of minres\n",
    "\n",
    "errors3_minres = [np.linalg.norm(xk - x_unique) for xk in xk_minres]\n",
    "errors_norm3_minres = [np.array(err) for err in errors3_minres]\n",
    "\n",
    "print('\\nErrors of minres:', errors_norm3_minres[0:5])\n",
    "minres_errors_norm3 = np.log10(errors_norm3_minres)\n",
    "\n",
    "print('\\nErrors of minres:', minres_errors_norm3[0:5])\n",
    "\n",
    "\n",
    "# plot\n",
    "plot_norm(cg_errors_norm3, minres_errors_norm3)"
   ]
  },
  {
   "cell_type": "code",
   "execution_count": null,
   "id": "8ef8bdd9",
   "metadata": {},
   "outputs": [],
   "source": []
  }
 ],
 "metadata": {
  "kernelspec": {
   "display_name": "Python 3 (ipykernel)",
   "language": "python",
   "name": "python3"
  },
  "language_info": {
   "codemirror_mode": {
    "name": "ipython",
    "version": 3
   },
   "file_extension": ".py",
   "mimetype": "text/x-python",
   "name": "python",
   "nbconvert_exporter": "python",
   "pygments_lexer": "ipython3",
   "version": "3.9.7"
  },
  "toc": {
   "base_numbering": 1,
   "nav_menu": {},
   "number_sections": true,
   "sideBar": true,
   "skip_h1_title": false,
   "title_cell": "Table of Contents",
   "title_sidebar": "Contents",
   "toc_cell": false,
   "toc_position": {},
   "toc_section_display": true,
   "toc_window_display": false
  }
 },
 "nbformat": 4,
 "nbformat_minor": 5
}
