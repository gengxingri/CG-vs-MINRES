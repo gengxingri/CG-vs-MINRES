{
 "cells": [
  {
   "cell_type": "code",
   "execution_count": 1,
   "id": "b333c9ad",
   "metadata": {},
   "outputs": [],
   "source": [
    "import numpy as np\n",
    "\n",
    "from scipy.sparse.linalg import norm, spsolve, minres\n",
    "from scipy.sparse import csc_matrix\n",
    "\n",
    "import matplotlib.pyplot as plt\n",
    "import matplotlib.ticker as ticker"
   ]
  },
  {
   "cell_type": "code",
   "execution_count": 2,
   "id": "f98c75fa",
   "metadata": {},
   "outputs": [
    {
     "name": "stdout",
     "output_type": "stream",
     "text": [
      "[ 0. -1.  1.]\n"
     ]
    }
   ],
   "source": [
    "A = csc_matrix(np.array([[2, 1, 1],\n",
    "                   [1, 0, 1],\n",
    "                   [1, 1, 2]]))\n",
    "\n",
    "\n",
    "b =np.array([0,1,1])\n",
    "\n",
    "\n",
    "x_unique = spsolve(A, b)\n",
    "print(x_unique)"
   ]
  },
  {
   "cell_type": "code",
   "execution_count": 3,
   "id": "5c4ebfd3",
   "metadata": {},
   "outputs": [
    {
     "name": "stdout",
     "output_type": "stream",
     "text": [
      "[ 1.38777878e-17 -1.00000000e+00  1.00000000e+00] 0\n"
     ]
    }
   ],
   "source": [
    "# MINRES method\n",
    "'''\n",
    "def minres_method(A, b, max_iter=None, tol=1e-11):\n",
    "    n = len(b)\n",
    "    x = np.zeros(n)\n",
    "    \n",
    "    # Set default max_iter if not provided\n",
    "    if max_iter is None:\n",
    "        max_iter = 5 * n\n",
    "        \n",
    "    r = b - A @ x\n",
    "    v = r / np.linalg.norm(r)\n",
    "    \n",
    "    w_old = np.zeros(n)\n",
    "    w = np.zeros(n)\n",
    "    \n",
    "    beta = np.dot(r, v)\n",
    "    \n",
    "    residuals = [] \n",
    "    xk = []\n",
    "    \n",
    "    for i in range(max_iter):\n",
    "        \n",
    "        # Lanczos process\n",
    "        v_new = A @ v - beta * w_old\n",
    "        alpha = np.dot(v, v_new)\n",
    "        v_new -= alpha * v\n",
    "        \n",
    "        beta_new = np.linalg.norm(v_new)\n",
    "        if beta_new < tol:\n",
    "            break\n",
    "        \n",
    "        w = v_new / beta_new\n",
    "        \n",
    "        \n",
    "        # Givens rotation\n",
    "        rho = np.sqrt(alpha**2 + beta_new**2)\n",
    "        c = alpha / rho\n",
    "        s = beta_new / rho\n",
    "        \n",
    "        # Update solution and residual\n",
    "        x += (beta * c / rho) * v\n",
    "        r -= (beta * c / rho) * (A @ v)\n",
    "        \n",
    "        # Prepare for next iteration\n",
    "        w_old = v\n",
    "        v = w\n",
    "        beta = beta_new\n",
    "        \n",
    "        residuals.append(np.linalg.norm(r))\n",
    "        xk.append(x.copy())\n",
    "        \n",
    "        if residuals[-1] < tol:\n",
    "            print(f\"Converged after {i+1} iterations\")\n",
    "            break\n",
    "    \n",
    "    if i == max_iter - 1:\n",
    "        print(\"Did not converge within maximum iterations\")\n",
    "    \n",
    "    return xk, residuals\n",
    "\n",
    "xk, errors = minres_method(A, b, max_iter=5*b.shape[0], tol=1e-8)\n",
    "\n",
    "\n",
    "\n",
    "print(len(errors))\n",
    "\n",
    "'''\n",
    "\n",
    "errors_minres = []\n",
    "\n",
    "xk_minres = []\n",
    "\n",
    "def callback(xk):\n",
    "    rk = b - A.dot(xk).reshape(-1,1)\n",
    "    error_norm = np.linalg.norm(rk)\n",
    "    errors_minres.append(error_norm)\n",
    "    xk_minres.append(xk)\n",
    "    return error_norm\n",
    "\n",
    "x_minres, info_minres = minres(A, b, tol=1e-11, callback=callback)\n",
    "print(x_minres, info_minres)\n"
   ]
  },
  {
   "cell_type": "code",
   "execution_count": null,
   "id": "cbf6bc2c",
   "metadata": {},
   "outputs": [],
   "source": []
  },
  {
   "cell_type": "code",
   "execution_count": null,
   "id": "e3b9b12d",
   "metadata": {},
   "outputs": [],
   "source": []
  },
  {
   "cell_type": "code",
   "execution_count": null,
   "id": "7b461984",
   "metadata": {},
   "outputs": [],
   "source": []
  },
  {
   "cell_type": "code",
   "execution_count": 4,
   "id": "a75dd7dd",
   "metadata": {},
   "outputs": [
    {
     "data": {
      "image/png": "[encoded data removed]",
      "text/plain": [
       "<Figure size 720x576 with 1 Axes>"
      ]
     },
     "metadata": {
      "needs_background": "light"
     },
     "output_type": "display_data"
    }
   ],
   "source": [
    "# Plot the ||x|| for the indefinite system\n",
    "\n",
    "def plot_norm(minres_errors):\n",
    "    # Create the plot\n",
    "    fig, ax = plt.subplots(figsize=(10,8))\n",
    "    \n",
    "    ax.plot(range(1,len(minres_errors)+1), minres_errors, 'b-', label='MINRES')\n",
    "\n",
    "    # Set labels and title\n",
    "    ax.set_xlabel('iteration number')\n",
    "    ax.set_ylabel('||xk||')\n",
    "    #ax.set_title('Name:Cannizzo_sts4098, Dim:4098x4098, nnz:72356, id=39')\n",
    "\n",
    "    # Set y-axis limits\n",
    "    ax.set_xlim(1, 3)\n",
    "    ax.set_ylim(0, 1.6)\n",
    "    \n",
    "    ax.xaxis.set_major_locator(ticker.MultipleLocator(0.5))\n",
    "    ax.yaxis.set_major_locator(ticker.MultipleLocator(0.2))\n",
    "\n",
    "    # Add legend\n",
    "    ax.legend()\n",
    "\n",
    "\n",
    "    # Show the plot\n",
    "    plt.show()\n",
    "    \n",
    "    \n",
    "\n",
    "xk_minres_norm =  np.array([np.linalg.norm(xk) for xk in xk_minres])\n",
    "\n",
    "# plot\n",
    "plot_norm(xk_minres_norm)"
   ]
  },
  {
   "cell_type": "code",
   "execution_count": 5,
   "id": "f75f1d32",
   "metadata": {
    "scrolled": true
   },
   "outputs": [
    {
     "data": {
      "image/png": "[encoded data removed]",
      "text/plain": [
       "<Figure size 720x576 with 1 Axes>"
      ]
     },
     "metadata": {
      "needs_background": "light"
     },
     "output_type": "display_data"
    }
   ],
   "source": [
    "# Plot the ||rk||/||xk|| for the indefinite system\n",
    "\n",
    "def plot_norm_2(minres_errors):\n",
    "    # Create the plot\n",
    "    fig, ax = plt.subplots(figsize=(10,8))\n",
    "    \n",
    "    ax.plot(range(1,len(minres_errors)+1), minres_errors, 'b-', label='MINRES')\n",
    "\n",
    "    # Set labels and title\n",
    "    ax.set_xlabel('iteration number')\n",
    "    ax.set_ylabel('||rk||/||xk||')\n",
    "    #ax.set_title('Name:Cannizzo_sts4098, Dim:4098x4098, nnz:72356, id=39')\n",
    "\n",
    "    # Set y-axis limits\n",
    "    ax.set_xlim(1, 3)\n",
    "    ax.set_ylim(0, 5)\n",
    "    ax.xaxis.set_major_locator(ticker.MultipleLocator(0.5))\n",
    "    ax.yaxis.set_major_locator(ticker.MultipleLocator(0.5))\n",
    "\n",
    "    # Add legend\n",
    "    ax.legend()\n",
    "\n",
    "\n",
    "    # Show the plot\n",
    "    plt.show()\n",
    "    \n",
    "    \n",
    "errors_minres_norm = np.array([np.linalg.norm(err) for err in errors_minres])\n",
    "xk_minres_norm =  np.array([np.linalg.norm(xk) for xk in xk_minres])\n",
    "\n",
    "minres_errors = errors_minres_norm / xk_minres_norm \n",
    "\n",
    "\n",
    "# plot\n",
    "plot_norm_2(minres_errors)"
   ]
  },
  {
   "cell_type": "code",
   "execution_count": null,
   "id": "977d554e",
   "metadata": {},
   "outputs": [],
   "source": []
  },
  {
   "cell_type": "code",
   "execution_count": null,
   "id": "ae3d238e",
   "metadata": {},
   "outputs": [],
   "source": []
  },
  {
   "cell_type": "code",
   "execution_count": null,
   "id": "e5cfadc6",
   "metadata": {},
   "outputs": [],
   "source": []
  },
  {
   "cell_type": "code",
   "execution_count": null,
   "id": "26cd993a",
   "metadata": {},
   "outputs": [],
   "source": []
  },
  {
   "cell_type": "code",
   "execution_count": null,
   "id": "cfce01ec",
   "metadata": {},
   "outputs": [],
   "source": []
  },
  {
   "cell_type": "code",
   "execution_count": null,
   "id": "11a266c6",
   "metadata": {},
   "outputs": [],
   "source": []
  },
  {
   "cell_type": "code",
   "execution_count": null,
   "id": "609f47f2",
   "metadata": {},
   "outputs": [],
   "source": []
  },
  {
   "cell_type": "code",
   "execution_count": null,
   "id": "ae92a2cb",
   "metadata": {},
   "outputs": [],
   "source": []
  },
  {
   "cell_type": "code",
   "execution_count": null,
   "id": "fc7f332f",
   "metadata": {},
   "outputs": [],
   "source": []
  },
  {
   "cell_type": "code",
   "execution_count": null,
   "id": "68e35778",
   "metadata": {},
   "outputs": [],
   "source": []
  },
  {
   "cell_type": "code",
   "execution_count": null,
   "id": "bbee492c",
   "metadata": {},
   "outputs": [],
   "source": []
  }
 ],
 "metadata": {
  "kernelspec": {
   "display_name": "Python 3 (ipykernel)",
   "language": "python",
   "name": "python3"
  },
  "language_info": {
   "codemirror_mode": {
    "name": "ipython",
    "version": 3
   },
   "file_extension": ".py",
   "mimetype": "text/x-python",
   "name": "python",
   "nbconvert_exporter": "python",
   "pygments_lexer": "ipython3",
   "version": "3.9.7"
  },
  "toc": {
   "base_numbering": 1,
   "nav_menu": {},
   "number_sections": true,
   "sideBar": true,
   "skip_h1_title": false,
   "title_cell": "Table of Contents",
   "title_sidebar": "Contents",
   "toc_cell": false,
   "toc_position": {},
   "toc_section_display": true,
   "toc_window_display": false
  }
 },
 "nbformat": 4,
 "nbformat_minor": 5
}
