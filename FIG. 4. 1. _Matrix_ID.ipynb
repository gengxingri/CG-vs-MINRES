{
 "cells": [
  {
   "cell_type": "code",
   "execution_count": 1,
   "id": "b333c9ad",
   "metadata": {},
   "outputs": [],
   "source": [
    "import os\n",
    "import scipy.io as sio\n",
    "\n",
    "from scipy.sparse import csc_matrix\n",
    "from scipy.sparse.linalg import eigsh, norm, cg, minres, spsolve\n",
    "import scipy.sparse.linalg as sla\n",
    "\n",
    "import matplotlib.pyplot as plt\n",
    "import numpy as np\n",
    "import time\n"
   ]
  },
  {
   "cell_type": "code",
   "execution_count": 2,
   "id": "f98c75fa",
   "metadata": {},
   "outputs": [
    {
     "name": "stdout",
     "output_type": "stream",
     "text": [
      "(1138, 1138) <class 'scipy.sparse._csc.csc_matrix'>\n",
      "(494, 494) <class 'scipy.sparse._csc.csc_matrix'>\n",
      "(662, 662) <class 'scipy.sparse._csc.csc_matrix'>\n",
      "(685, 685) <class 'scipy.sparse._csc.csc_matrix'>\n",
      "(48, 48) <class 'scipy.sparse._csc.csc_matrix'>\n",
      "(66, 66) <class 'scipy.sparse._csc.csc_matrix'>\n",
      "(112, 112) <class 'scipy.sparse._csc.csc_matrix'>\n",
      "(132, 132) <class 'scipy.sparse._csc.csc_matrix'>\n"
     ]
    }
   ],
   "source": [
    "'''\n",
    "没有找到原来paper中的FIG. 4. 1.的26个矩阵数据，就根据paper提供的参考资源取了前26个中是spd的矩阵作为数据。 分别是ID1-4 和ID23-26\n",
    "'''\n",
    "\n",
    "\n",
    "# find path\n",
    "os.chdir('/Users/gengxingri/Desktop/Leetcodes/HUAWEI/matrix_id')\n",
    "\n",
    "# list of file names\n",
    "file_names = [\n",
    "    'id1_1138_bus.mat',\n",
    "    'id2_494_bus.mat',\n",
    "    'id3_662_bus.mat',\n",
    "    'id4_685_bus.mat',\n",
    "    'id23_bcsstk01.mat',\n",
    "    'id24_bcsstk02.mat',\n",
    "    'id25_bcsstk03.mat',\n",
    "    'id26_bcsstk04.mat'\n",
    "]\n",
    "\n",
    "data_list = []\n",
    "\n",
    "# read files\n",
    "for file_name in file_names:\n",
    "    data = sio.loadmat(file_name)\n",
    "    data_list.append(data)\n",
    "\n",
    "\n",
    "# find the matrix\n",
    "matrix = []\n",
    "for data in data_list:\n",
    "    A = data['Problem']['A'][0][0]\n",
    "    print(A.shape, type(A))\n",
    "    matrix.append(A)\n",
    "\n",
    "\n"
   ]
  },
  {
   "cell_type": "code",
   "execution_count": 3,
   "id": "eb6095a5",
   "metadata": {},
   "outputs": [
    {
     "name": "stdout",
     "output_type": "stream",
     "text": [
      "\n",
      "Condition number: 8572645.586340638\n",
      "\n",
      "Condition number: 2415411.0180741954\n",
      "\n",
      "Condition number: 794131.1078681493\n",
      "\n",
      "Condition number: 423125.6373688753\n",
      "\n",
      "Condition number: 882336.2627387453\n",
      "\n",
      "Condition number: 4324.971460132286\n",
      "\n",
      "Condition number: 6791333.064242624\n",
      "\n",
      "Condition number: 2292466.0629935246\n"
     ]
    }
   ],
   "source": [
    "\n",
    "'''\n",
    "eigval_min 还可以通过调整参数 maxiter和 tol 的值继续优化\n",
    "\n",
    "''' \n",
    "# Calculate the condition number\n",
    "\n",
    "def cond_num(A):\n",
    "    eigval_max = eigsh(A, k=1, which='LM', return_eigenvectors=False)\n",
    "    eigval_min = eigsh(A, k=1, which='SM', return_eigenvectors=False, maxiter=10000000, tol=1e-8)\n",
    "    \n",
    "    condition_number = eigval_max / eigval_min\n",
    "\n",
    "    print(\"\\nCondition number:\", condition_number[0])\n",
    "    return condition_number[0]\n",
    "\n",
    "\n",
    "# condition numbers for 26 matrix   \n",
    "original_cond = []\n",
    "for A in matrix:\n",
    "    original_cond.append(cond_num(A))\n",
    "    "
   ]
  },
  {
   "cell_type": "code",
   "execution_count": 4,
   "id": "81054eac",
   "metadata": {},
   "outputs": [
    {
     "data": {
      "text/plain": [
       "[8572645.586340638,\n",
       " 2415411.0180741954,\n",
       " 794131.1078681493,\n",
       " 423125.6373688753,\n",
       " 882336.2627387453,\n",
       " 4324.971460132286,\n",
       " 6791333.064242624,\n",
       " 2292466.0629935246]"
      ]
     },
     "execution_count": 4,
     "metadata": {},
     "output_type": "execute_result"
    }
   ],
   "source": [
    "original_cond"
   ]
  },
  {
   "cell_type": "code",
   "execution_count": 7,
   "id": "5c4ebfd3",
   "metadata": {},
   "outputs": [
    {
     "name": "stdout",
     "output_type": "stream",
     "text": [
      "\n",
      "Condition number after preconditioning: 490315.35817737883\n",
      "\n",
      "Condition number after preconditioning: 78952.60173246905\n",
      "\n",
      "Condition number after preconditioning: 44636.58466562711\n",
      "\n",
      "Condition number after preconditioning: 8397.981393277698\n",
      "\n",
      "Condition number after preconditioning: 1360.7070957468775\n",
      "\n",
      "Condition number after preconditioning: 1812.1251147664118\n",
      "\n",
      "Condition number after preconditioning: 14710.474466352714\n",
      "\n",
      "Condition number after preconditioning: 1817.93888164568\n"
     ]
    }
   ],
   "source": [
    "# Calculate the condition number after preconditioning\n",
    "\n",
    "\n",
    "# Create the diagonal preconditioner\n",
    "def precond(A):\n",
    "    \n",
    "    n = A.shape[0]\n",
    "    diag_A = A.diagonal()\n",
    "\n",
    "    D = csc_matrix((1 / np.sqrt(diag_A), (np.arange(n), np.arange(n))), shape=(n, n))\n",
    "\n",
    "    # Apply preconditioning\n",
    "    A_new = D.dot(A.dot(D))\n",
    "   \n",
    "    return A_new\n",
    "\n",
    "\n",
    "# condition number after preconditoning\n",
    "def precond_num(A):\n",
    "    A_new = precond(A)\n",
    "    \n",
    "    eigval_max = eigsh(A_new, k=1, which='LM', return_eigenvectors=False)\n",
    "    eigval_min = eigsh(A_new, k=1, which='SM', return_eigenvectors=False, maxiter=10000000, tol=1e-8)\n",
    "\n",
    "    condition_number = eigval_max / eigval_min\n",
    "\n",
    "    print(\"\\nCondition number after preconditioning:\", condition_number[0])\n",
    "    \n",
    "    return condition_number[0]\n",
    "\n",
    "# condition numbers for 26 matrix   \n",
    "preconditioned_cond = []\n",
    "for A in matrix:\n",
    "    preconditioned_cond.append(precond_num(A))\n",
    "    "
   ]
  },
  {
   "cell_type": "code",
   "execution_count": null,
   "id": "a75dd7dd",
   "metadata": {},
   "outputs": [],
   "source": []
  },
  {
   "cell_type": "code",
   "execution_count": null,
   "id": "f75f1d32",
   "metadata": {},
   "outputs": [],
   "source": []
  },
  {
   "cell_type": "code",
   "execution_count": 6,
   "id": "977d554e",
   "metadata": {},
   "outputs": [
    {
     "data": {
      "image/png": "[encoded data removed]",
      "text/plain": [
       "<Figure size 864x576 with 1 Axes>"
      ]
     },
     "metadata": {
      "needs_background": "light"
     },
     "output_type": "display_data"
    }
   ],
   "source": [
    "# The function to plot graph\n",
    "def plot(matrix_ids, original_cond, precond_cond):\n",
    "    \n",
    "    plt.figure(figsize=(12, 8))\n",
    "    \n",
    "    # create a log scale plot for the y-axis.\n",
    "    plt.semilogy(matrix_ids, original_cond, 'bs', markersize=8, label='original')\n",
    "    plt.semilogy(matrix_ids, precond_cond, 'r^', markersize=8, label='preconditioned')\n",
    "    \n",
    "    # add the dashed vertical lines connecting the pairs of points\n",
    "    for i in range(len(matrix_ids)):\n",
    "        plt.vlines(matrix_ids[i], \n",
    "                   min(original_cond[i], precond_cond[i]), \n",
    "                   max(original_cond[i], precond_cond[i]), \n",
    "                   'k', \n",
    "                   linestyle='dashed', \n",
    "                   linewidth=1)\n",
    "\n",
    "    plt.xlabel('Matrix ID')\n",
    "    plt.ylabel('Cond(A)')\n",
    "    plt.title('CG vs MINRES test set')\n",
    "    \n",
    "    # add the legend\n",
    "    plt.legend(loc = 'lower left')\n",
    "    \n",
    "    # set the axis limits\n",
    "    plt.xlim(0, 30)\n",
    "    plt.ylim(1e0, 1e15)\n",
    "    \n",
    "    # add a light grid to the background\n",
    "    plt.grid(True, which=\"both\", ls=\"-\", alpha=0.2)\n",
    "    \n",
    "    # add text\n",
    "    plt.text(0.5, \n",
    "            -0.1, \n",
    "            'FIG. 4.1. Distribution of condition number for matrices used for CG vs MINRES comparison, before and after diagonal preconditioning',\n",
    "            transform=plt.gca().transAxes, \n",
    "            ha='center')\n",
    "\n",
    "    \n",
    "    plt.show()\n",
    "    \n",
    "    \n",
    "# plot the graph\n",
    "matrix_ids = np.arange(1, 9)\n",
    "\n",
    "plot(matrix_ids, original_cond, preconditioned_cond)"
   ]
  },
  {
   "cell_type": "code",
   "execution_count": null,
   "id": "ae3d238e",
   "metadata": {},
   "outputs": [],
   "source": []
  },
  {
   "cell_type": "code",
   "execution_count": null,
   "id": "26cd993a",
   "metadata": {},
   "outputs": [],
   "source": []
  },
  {
   "cell_type": "code",
   "execution_count": null,
   "id": "2026662f",
   "metadata": {},
   "outputs": [],
   "source": []
  },
  {
   "cell_type": "code",
   "execution_count": null,
   "id": "cfce01ec",
   "metadata": {},
   "outputs": [],
   "source": []
  },
  {
   "cell_type": "code",
   "execution_count": null,
   "id": "2da09431",
   "metadata": {},
   "outputs": [],
   "source": []
  },
  {
   "cell_type": "code",
   "execution_count": null,
   "id": "609f47f2",
   "metadata": {},
   "outputs": [],
   "source": []
  },
  {
   "cell_type": "code",
   "execution_count": null,
   "id": "ae92a2cb",
   "metadata": {},
   "outputs": [],
   "source": []
  }
 ],
 "metadata": {
  "kernelspec": {
   "display_name": "Python 3 (ipykernel)",
   "language": "python",
   "name": "python3"
  },
  "language_info": {
   "codemirror_mode": {
    "name": "ipython",
    "version": 3
   },
   "file_extension": ".py",
   "mimetype": "text/x-python",
   "name": "python",
   "nbconvert_exporter": "python",
   "pygments_lexer": "ipython3",
   "version": "3.9.7"
  },
  "toc": {
   "base_numbering": 1,
   "nav_menu": {},
   "number_sections": true,
   "sideBar": true,
   "skip_h1_title": false,
   "title_cell": "Table of Contents",
   "title_sidebar": "Contents",
   "toc_cell": false,
   "toc_position": {},
   "toc_section_display": true,
   "toc_window_display": false
  }
 },
 "nbformat": 4,
 "nbformat_minor": 5
}
