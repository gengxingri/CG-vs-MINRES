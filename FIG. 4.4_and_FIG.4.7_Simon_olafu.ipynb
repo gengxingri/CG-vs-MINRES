{
 "cells": [
  {
   "cell_type": "code",
   "execution_count": 1,
   "id": "b333c9ad",
   "metadata": {},
   "outputs": [],
   "source": [
    "import os\n",
    "import scipy.io as sio\n",
    "# 切换到包含文件的目录\n",
    "os.chdir('/Users/gengxingri/Desktop/Leetcodes/HUAWEI')\n",
    "\n",
    "from decimal import Decimal\n",
    "import numpy as np\n",
    "\n",
    "from scipy.sparse import csc_matrix,  identity\n",
    "from scipy.sparse.linalg import eigsh, norm, spsolve, cg, minres\n",
    "import scipy.sparse as sp\n",
    "import scipy.sparse.linalg as sla\n",
    "\n",
    "import matplotlib.pyplot as plt\n",
    "import matplotlib.ticker as ticker\n",
    "\n",
    "import time\n"
   ]
  },
  {
   "cell_type": "code",
   "execution_count": 2,
   "id": "f98c75fa",
   "metadata": {},
   "outputs": [
    {
     "name": "stdout",
     "output_type": "stream",
     "text": [
      "(16146, 16146) <class 'scipy.sparse._csc.csc_matrix'>\n",
      "(16146, 1) <class 'numpy.ndarray'>\n"
     ]
    }
   ],
   "source": [
    "# 读取.mat 文件\n",
    "data = sio.loadmat('olafu.mat')\n",
    "\n",
    "\n",
    "A = data['Problem']['A'][0][0]\n",
    "print(A.shape, type(A))\n",
    "\n",
    "b = data['Problem']['b'][0][0]\n",
    "print(b.shape, type(b))\n",
    "\n"
   ]
  },
  {
   "cell_type": "code",
   "execution_count": null,
   "id": "eb6095a5",
   "metadata": {},
   "outputs": [],
   "source": []
  },
  {
   "cell_type": "code",
   "execution_count": 3,
   "id": "5c4ebfd3",
   "metadata": {},
   "outputs": [
    {
     "name": "stdout",
     "output_type": "stream",
     "text": [
      "3788110.9542573662 947870338881.5409\n",
      "Condition number based on eigenvalues: 250222.43285040327\n",
      "Runing time：0.20304274559020996 s\n"
     ]
    }
   ],
   "source": [
    "# Calculate the condition number\n",
    "start_time = time.time()\n",
    "\n",
    "# return eigenvalues that have the min and max abs values, respectively\n",
    "eigval_max = eigsh(A, k=1, which='LM', return_eigenvectors=False)[0]\n",
    "eigval_min = eigsh(A, k=1, which='SM', return_eigenvectors=False, tol=5)[0] # the result is vary rough\n",
    "print(eigval_min, eigval_max)\n",
    "\n",
    "condition_number = eigval_max / eigval_min\n",
    "\n",
    "print(\"Condition number based on eigenvalues:\", condition_number)\n",
    "\n",
    "end_time = time.time()\n",
    "execution_time = end_time - start_time\n",
    "\n",
    "print(f\"Runing time：{execution_time} s\")"
   ]
  },
  {
   "cell_type": "code",
   "execution_count": null,
   "id": "a75dd7dd",
   "metadata": {},
   "outputs": [],
   "source": []
  },
  {
   "cell_type": "code",
   "execution_count": 4,
   "id": "f75f1d32",
   "metadata": {},
   "outputs": [
    {
     "name": "stdout",
     "output_type": "stream",
     "text": [
      "[1. 1. 1. ... 1. 1. 1.] 1.0\n"
     ]
    }
   ],
   "source": [
    "# Create the diagonal preconditioner\n",
    "n = A.shape[0]\n",
    "diag_A = A.diagonal()\n",
    "\n",
    "D = csc_matrix((1 / np.sqrt(diag_A), (np.arange(n), np.arange(n))), shape=(n, n))\n",
    "\n",
    "# Apply preconditioning\n",
    "A_new = D.dot(A.dot(D))\n",
    "\n",
    "# 将 numpy 数组转换为 CSC 格式的稀疏矩阵\n",
    "b_sparse = csc_matrix(b)\n",
    "\n",
    "b_new = D.dot(b_sparse) / norm(D.dot(b_sparse)) \n",
    "\n",
    "print(A_new.diagonal(), norm(b_new))"
   ]
  },
  {
   "cell_type": "code",
   "execution_count": null,
   "id": "977d554e",
   "metadata": {},
   "outputs": [],
   "source": []
  },
  {
   "cell_type": "code",
   "execution_count": 5,
   "id": "ae3d238e",
   "metadata": {},
   "outputs": [
    {
     "name": "stdout",
     "output_type": "stream",
     "text": [
      "0.010207417950479808 15.192884285425976\n",
      "Condition number based on eigenvalues: 1488.4160087431144\n"
     ]
    }
   ],
   "source": [
    "# Calculate the condition number\n",
    "\n",
    "eigval_max = eigsh(A_new, k=1, which='LM', return_eigenvectors=False)[0]\n",
    "eigval_min = eigsh(A_new, k=1, which='SM', return_eigenvectors=False, tol=5)[0]\n",
    "print(eigval_min, eigval_max)\n",
    "\n",
    "preconditioned_cond = eigval_max / eigval_min\n",
    "\n",
    "print(\"Condition number based on eigenvalues:\", preconditioned_cond)\n"
   ]
  },
  {
   "cell_type": "code",
   "execution_count": 6,
   "id": "26cd993a",
   "metadata": {},
   "outputs": [
    {
     "name": "stdout",
     "output_type": "stream",
     "text": [
      "[ -0.34351415  -2.74329069  -7.30720538 ... -51.250221    -7.71784307\n",
      "  55.87781126]\n"
     ]
    }
   ],
   "source": [
    "# Unique solution of Ax = b\n",
    "\n",
    "x_unique = spsolve(A_new, b_new)\n",
    "print(x_unique)"
   ]
  },
  {
   "cell_type": "code",
   "execution_count": 7,
   "id": "2026662f",
   "metadata": {},
   "outputs": [
    {
     "name": "stdout",
     "output_type": "stream",
     "text": [
      "Converged after 34270 iterations\n",
      "CG method took 91.8644 seconds\n"
     ]
    }
   ],
   "source": [
    "# CG mtheod\n",
    "def conjugate_gradient_sparse(A, b, tol=1e-8, max_iter=5*b.shape[0]):\n",
    "    n = b.shape[0] \n",
    "    x = np.zeros(n).reshape((n,1))\n",
    "    r = b - A @ x\n",
    "    #print(r.shape, type(r))\n",
    "    xk_cg =[]\n",
    "    \n",
    "    \n",
    "    p = r.copy()\n",
    "    r_norm_sq = np.dot(r.T,r)\n",
    "    errors = []  # Initial error\n",
    "    #print(x.shape, r_norm_sq.shape)\n",
    "\n",
    "    for i in range(max_iter):\n",
    "        Ap = A @ p\n",
    "        alpha = r_norm_sq / np.dot(p.T, Ap)\n",
    "        x = x + alpha * p\n",
    "        r -= alpha * Ap\n",
    "        \n",
    "        r_norm_sq_new = np.dot(r.T, r)\n",
    "        \n",
    "        #print(r_norm_sq_new.shape)\n",
    "        errors.append(np.sqrt(r_norm_sq_new))  # Append new error\n",
    "        xk_cg.append(x)\n",
    "        if np.sqrt(r_norm_sq_new) < tol:\n",
    "            print(f\"Converged after {i+1} iterations\")\n",
    "            return x, errors, xk_cg\n",
    "        \n",
    "        beta = r_norm_sq_new / r_norm_sq\n",
    "        p = r + beta * p\n",
    "        r_norm_sq = r_norm_sq_new\n",
    "    \n",
    "    print(f\"Did not converge after {max_iter} iterations\")\n",
    "    return x, errors, xk_cg\n",
    "\n",
    "# Solve using our CG implementation\n",
    "start_time = time.time()\n",
    "\n",
    "b_array = b_new.toarray()\n",
    "x_cg, errors, xk = conjugate_gradient_sparse(A_new, b_array, tol=1e-12)\n",
    "\n",
    "cg_time = time.time() - start_time\n",
    "\n",
    "print(f\"CG method took {cg_time:.4f} seconds\")\n",
    "\n",
    "# change the type of errors_cg and xk_cg\n",
    "errors_cg = [arr[0][0] for arr in errors]\n",
    "xk_cg = [np.reshape(arr,-1) for arr in xk]"
   ]
  },
  {
   "cell_type": "code",
   "execution_count": null,
   "id": "20e8cad8",
   "metadata": {},
   "outputs": [],
   "source": []
  },
  {
   "cell_type": "code",
   "execution_count": 8,
   "id": "2da09431",
   "metadata": {},
   "outputs": [
    {
     "name": "stdout",
     "output_type": "stream",
     "text": [
      "[ -0.34351393  -2.74328905  -7.30720102 ... -51.25019963  -7.71783811\n",
      "  55.87778732] 0\n",
      "\n",
      " 25874 [0.6948041950255897, 0.646272371461057, 0.5434742662452567, 0.4278102433591355, 0.3871607015285532]\n"
     ]
    }
   ],
   "source": [
    "\n",
    "# MINRES method\n",
    "\n",
    "errors_minres = []\n",
    "\n",
    "xk_minres = []\n",
    "\n",
    "def callback(xk):\n",
    "    rk = b_array - A_new.dot(xk).reshape(-1,1)\n",
    "    error_norm = np.linalg.norm(rk)\n",
    "    errors_minres.append(error_norm)\n",
    "    xk_minres.append(xk)\n",
    "    return np.linalg.norm(rk)\n",
    "\n",
    "x_minres, info_minres = minres(A_new, b_array, tol=0, maxiter=5*b.shape[0], callback=callback)\n",
    "print(x_minres, info_minres)\n",
    "print('\\n', len(errors_minres), errors_minres[0:5])\n"
   ]
  },
  {
   "cell_type": "code",
   "execution_count": 9,
   "id": "609f47f2",
   "metadata": {},
   "outputs": [
    {
     "data": {
      "image/png": "[encoded data removed]",
      "text/plain": [
       "<Figure size 720x576 with 1 Axes>"
      ]
     },
     "metadata": {
      "needs_background": "light"
     },
     "output_type": "display_data"
    }
   ],
   "source": [
    "# Plot the log(||r||) errors\n",
    "\n",
    "def plot_norm_4(cg_errors, minres_errors):\n",
    "    # Create the plot\n",
    "    fig, ax = plt.subplots(figsize=(10,8))\n",
    "    ax.plot(range(1, len(cg_errors)+1), cg_errors, 'b-', label='CG')\n",
    "    ax.plot(range(1, len(minres_errors)+1), minres_errors, 'r-.', label='MINRES')\n",
    "\n",
    "    # Set labels and title\n",
    "    ax.set_xlabel('iteration count')\n",
    "    ax.set_xlabel('x $10^4$', loc='right')\n",
    "    ax.set_ylabel('log(||r||)')\n",
    "    ax.set_title('Name:Simon_olafu, Dim:16146x16146, nnz:1015156, id=6')\n",
    "\n",
    "    # Set y-axis limits\n",
    "    ax.set_xticks(np.arange(0, 30001, 10000))\n",
    "    ax.set_xticklabels([f'{i/10000}' for i in np.arange(0, 30001, 10000)])\n",
    "    ax.set_ylim(-10, 2)\n",
    "    ax.yaxis.set_major_locator(ticker.MultipleLocator(2))\n",
    "\n",
    "    # Add legend\n",
    "    ax.legend()\n",
    "\n",
    "\n",
    "    # Show the plot\n",
    "    plt.show()\n",
    "\n",
    "    \n",
    "# errors of log||r|| in each iteration\n",
    "\n",
    "# errors of cg\n",
    "cg_errors_norm4 = np.log10(errors_cg)\n",
    "\n",
    "\n",
    "\n",
    "# errors of minres\n",
    "minres_errors_norm4 = np.log10(errors_minres)\n",
    "\n",
    "\n",
    "\n",
    "# plot\n",
    "plot_norm_4(cg_errors_norm4, minres_errors_norm4)"
   ]
  },
  {
   "cell_type": "code",
   "execution_count": 10,
   "id": "ae92a2cb",
   "metadata": {},
   "outputs": [
    {
     "data": {
      "image/png": "[encoded data removed]",
      "text/plain": [
       "<Figure size 720x576 with 1 Axes>"
      ]
     },
     "metadata": {
      "needs_background": "light"
     },
     "output_type": "display_data"
    }
   ],
   "source": [
    "# Plot the ||x||\n",
    "\n",
    "def plot_norm_5(cg_errors, minres_errors):\n",
    "    # Create the plot\n",
    "    fig, ax = plt.subplots(figsize=(10,8))\n",
    "    ax.plot(range(1,len(cg_errors)+1), cg_errors, 'b-', label='CG')\n",
    "    ax.plot(range(1,len(minres_errors)+1), minres_errors, 'r-.', label='MINRES')\n",
    "\n",
    "    # Set labels and title\n",
    "    ax.set_xlabel('iteration count')\n",
    "    ax.set_xlabel('x $10^4$', loc='right')\n",
    "    \n",
    "    ax.set_ylabel('||x||')\n",
    "    ax.set_ylabel('x $10^5$', loc='top')\n",
    "    ax.set_title('Name:Simon_olafu, Dim:16146x16146, nnz:1015156, id=6')\n",
    "\n",
    "    # Set y-axis limits\n",
    "    ax.set_xticks(np.arange(0, 30001, 10000))\n",
    "    ax.set_xticklabels([f'{i/10000}' for i in np.arange(0, 30001, 10000)])\n",
    "    \n",
    "    ax.set_yticks(np.arange(0, 1800001, 200000))\n",
    "    ax.set_yticklabels([f'{i/100000}' for i in np.arange(0, 1800001, 200000)])\n",
    "    \n",
    "    #ax.yaxis.set_major_locator(ticker.MultipleLocator(2))\n",
    "\n",
    "    # Add legend\n",
    "    ax.legend()\n",
    "\n",
    "\n",
    "    # Show the plot\n",
    "    plt.show()\n",
    "    \n",
    "    \n",
    "    \n",
    "xk_cg_norm5 =  np.array([np.linalg.norm(xk) for xk in xk_cg])\n",
    "xk_minres_norm5 =  np.array([np.linalg.norm(xk) for xk in xk_minres])\n",
    "\n",
    "# plot\n",
    "plot_norm_5(xk_cg_norm5, xk_minres_norm5)"
   ]
  },
  {
   "cell_type": "code",
   "execution_count": 11,
   "id": "8b42fa3c",
   "metadata": {},
   "outputs": [
    {
     "name": "stdout",
     "output_type": "stream",
     "text": [
      "[ 0.01012205 -0.00288163 -0.00202698 ... -0.01595044  0.00415821\n",
      " -0.01396475] 0\n"
     ]
    }
   ],
   "source": [
    "# Now plot the indefinitesystem (A-\\delta I)x = b, where\\delta = 0.5\n",
    "\n",
    "I = identity(n, format='csc')\n",
    "A_indef = A_new - 0.5*I\n",
    "\n",
    "# MINRES method\n",
    "\n",
    "errors_minres_indef = []\n",
    "\n",
    "xk_minres_indef = []\n",
    "\n",
    "def callback(xk):\n",
    "    rk = b_array - A_indef.dot(xk).reshape(-1,1)\n",
    "    error_norm = np.linalg.norm(rk)\n",
    "    errors_minres_indef.append(error_norm)\n",
    "    xk_minres_indef.append(xk)\n",
    "    return np.linalg.norm(rk)\n",
    "\n",
    "x_indef_minres, info_indef_minres = minres(A_indef, b_array, tol=1e-11, callback=callback)\n",
    "print(x_indef_minres, info_indef_minres)"
   ]
  },
  {
   "cell_type": "code",
   "execution_count": 12,
   "id": "e0a8def1",
   "metadata": {
    "scrolled": true
   },
   "outputs": [
    {
     "data": {
      "image/png": "[encoded data removed]",
      "text/plain": [
       "<Figure size 720x576 with 1 Axes>"
      ]
     },
     "metadata": {
      "needs_background": "light"
     },
     "output_type": "display_data"
    }
   ],
   "source": [
    "# Plot the log(||r||) errors\n",
    "\n",
    "def plot_indef_log(minres_errors):\n",
    "    # Create the plot\n",
    "    fig, ax = plt.subplots(figsize=(10,8))\n",
    "    \n",
    "    ax.plot(range(1,len(minres_errors)+1), minres_errors, 'b-', label='MINRES')\n",
    "\n",
    "    # Set labels and title\n",
    "    ax.set_xlabel('iteration count')\n",
    "    ax.set_ylabel('log(||r||)')\n",
    "    ax.set_title('Name:Simon_olafu, Dim:16146x16146, nnz:1015156, id=32')\n",
    "\n",
    "    # Set y-axis limits\n",
    "    ax.set_xlim(0, 18000)\n",
    "    ax.set_ylim(-3.5, 0)\n",
    "    ax.yaxis.set_major_locator(ticker.MultipleLocator(0.5))\n",
    "\n",
    "    # Add legend\n",
    "    ax.legend()\n",
    "\n",
    "\n",
    "    # Show the plot\n",
    "    plt.show()\n",
    "    \n",
    "    \n",
    "    \n",
    "errors_indef_minres =  np.array([np.linalg.norm(err) for err in errors_minres_indef])\n",
    "\n",
    "minres_errors_indef = np.log10(errors_indef_minres)\n",
    "\n",
    "# plot\n",
    "plot_indef_log(minres_errors_indef)"
   ]
  },
  {
   "cell_type": "code",
   "execution_count": 13,
   "id": "34a38699",
   "metadata": {},
   "outputs": [
    {
     "data": {
      "image/png": "[encoded data removed]",
      "text/plain": [
       "<Figure size 720x576 with 1 Axes>"
      ]
     },
     "metadata": {
      "needs_background": "light"
     },
     "output_type": "display_data"
    }
   ],
   "source": [
    "# Plot the ||x|| for the indefinite system\n",
    "\n",
    "def plot_indef_norm(minres_errors):\n",
    "    # Create the plot\n",
    "    fig, ax = plt.subplots(figsize=(10,8))\n",
    "    \n",
    "    ax.plot(range(1,len(minres_errors)+1), minres_errors, 'b-', label='MINRES')\n",
    "\n",
    "    # Set labels and title\n",
    "    ax.set_xlabel('iteration count')\n",
    "    ax.set_ylabel('||x||')\n",
    "    ax.set_title('Name:Simon_olafu, Dim:16146x16146, nnz:1015156, id=32')\n",
    "\n",
    "    # Set y-axis limits\n",
    "    ax.set_xlim(0, 18000)\n",
    "    ax.set_ylim(0, 9)\n",
    "    ax.yaxis.set_major_locator(ticker.MultipleLocator(1))\n",
    "\n",
    "    # Add legend\n",
    "    ax.legend()\n",
    "\n",
    "\n",
    "    # Show the plot\n",
    "    plt.show()\n",
    "    \n",
    "    \n",
    "\n",
    "xk_minres_indef_norm =  np.array([np.linalg.norm(xk) for xk in xk_minres_indef])\n",
    "\n",
    "# plot\n",
    "plot_indef_norm(xk_minres_indef_norm)"
   ]
  },
  {
   "cell_type": "code",
   "execution_count": null,
   "id": "e322c6bb",
   "metadata": {},
   "outputs": [],
   "source": []
  }
 ],
 "metadata": {
  "kernelspec": {
   "display_name": "Python 3 (ipykernel)",
   "language": "python",
   "name": "python3"
  },
  "language_info": {
   "codemirror_mode": {
    "name": "ipython",
    "version": 3
   },
   "file_extension": ".py",
   "mimetype": "text/x-python",
   "name": "python",
   "nbconvert_exporter": "python",
   "pygments_lexer": "ipython3",
   "version": "3.9.7"
  },
  "toc": {
   "base_numbering": 1,
   "nav_menu": {},
   "number_sections": true,
   "sideBar": true,
   "skip_h1_title": false,
   "title_cell": "Table of Contents",
   "title_sidebar": "Contents",
   "toc_cell": false,
   "toc_position": {},
   "toc_section_display": true,
   "toc_window_display": false
  }
 },
 "nbformat": 4,
 "nbformat_minor": 5
}
